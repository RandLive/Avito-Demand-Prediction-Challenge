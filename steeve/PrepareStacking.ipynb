{
 "cells": [
  {
   "cell_type": "code",
   "execution_count": 39,
   "metadata": {},
   "outputs": [],
   "source": [
    "import numpy as np\n",
    "import pandas as pd\n",
    "import os\n",
    "import glob"
   ]
  },
  {
   "cell_type": "code",
   "execution_count": 40,
   "metadata": {
    "scrolled": true
   },
   "outputs": [
    {
     "data": {
      "text/plain": [
       "['../output/tfidf_lgb_train_5fold.csv',\n",
       " '../output/des_word_svd_200_char_svd_1000_title_200_resnet50_500_lgb_5fold_train.csv',\n",
       " '../output/des_word_svd_200_char_svd_1000_title_200_resnet50_500_incepv3_logprice_lgb_5fold_train.csv',\n",
       " '../output/des_word_50000_nwords_title_50000_lower_swr_resnet50_500_logprice_params_ridge_5fold_train.csv',\n",
       " '../output/des_word_10000_nwords_title_5000_lower_swr_resnet50_500_logprice_params_lgb_5fold_train.csv',\n",
       " '../output/pk_nn_starter_2347_res50_mlp_5fold_train.csv',\n",
       " '../output/pk_ridge_2360_res50_5fold_train.csv',\n",
       " '../output/pk_nn_starter_2347_res50_mlp_10fold_train.csv',\n",
       " '../output/pk_2282_catboost_train.csv',\n",
       " '../output/des_word_10000_nwords_title_5000_params_5000_lower_swr_resnet50_500_logprice_params_incep30_lgb_5fold_train.csv',\n",
       " '../output/pk_ridge_2360_5fold_train.csv',\n",
       " '../output/des_word_10000_nwords_title_5000_lower_swr_resnet50_500_logprice_params_s1042_lgb_5fold_train.csv',\n",
       " '../output/mercari_no2_sol_emb_nn_5fold_train.csv',\n",
       " '../output/mercari_no2_sol_emb_nn_imtop1_5fold_train.csv',\n",
       " '../output/mercari_no2_sol_emb_50_price_nn_imtop1_5fold_train.csv',\n",
       " '../output/mercari_no2_sol_emb_50_price_mean_encode_nn_imtop1_5fold_train.csv',\n",
       " '../output/mercari_no2_sol_emb_50_price_mean_encode_seq_num_nn_imtop1_5fold_train.csv',\n",
       " '../output/mercari_no2_sol_emb_50_price_imtop1_itseq_nn_5fold_train.csv',\n",
       " '../output/mercari_no2_sol_emb_50_price_imtop1_deslen_itseq_nn_5fold_train.csv',\n",
       " '../output/mercari_no2_sol_emb_50_price_imtop1_city_itseq_nn_5fold_train.csv',\n",
       " '../output/mercari_no2_sol_emb_50_price_imtop1_city_param1_itseq_nn_5fold_train.csv',\n",
       " '../output/mercari_no2_sol_emb_50_price_nn_imtop1_db_params_3_5fold_train.csv',\n",
       " '../output/mercari_no2_sol_emb_50_price_deslen_nn_5fold_train.csv',\n",
       " '../output/mercari_no2_sol_emb_50_price_deslen_imquality_tilen_nn_5fold_train.csv',\n",
       " '../output/mercari_no2_sol_emb_50_price_deslen_imquality_nn_5fold_train.csv',\n",
       " '../output/mercari_no2_sol_emb_50_price_deslen_tilen_nn_5fold_train.csv',\n",
       " '../output/mercari_no2_sol_emb_50_price_deslen_tilen_ag_pr1_nn_5fold_train.csv',\n",
       " '../output/mercari_no2_sol_emb_50_price_deslen_ag_pr1_avgpool_nn_5fold_train.csv',\n",
       " '../output/mercari_no2_sol_emb_50_price_deslen_ag_pr1_nn_5fold_train.csv',\n",
       " '../output/mercari_no2_sol_emb_50_price_deslen_txfeatlen_nn_5fold_train.csv',\n",
       " '../output/mercari_no2_sol_emb_50_price_deslen_desvec10000_nn_5fold_train.csv']"
      ]
     },
     "execution_count": 40,
     "metadata": {},
     "output_type": "execute_result"
    }
   ],
   "source": [
    "train_files = [file for file in glob.glob(\"../output/*train*.csv\")]\n",
    "train_files"
   ]
  },
  {
   "cell_type": "code",
   "execution_count": 62,
   "metadata": {},
   "outputs": [],
   "source": [
    "train_files = [\n",
    " '../output/des_word_10000_nwords_title_5000_params_5000_lower_swr_resnet50_500_logprice_params_incep30_lgb_5fold_test.csv',\n",
    " '../output/des_word_50000_nwords_title_50000_lower_swr_resnet50_500_logprice_params_ridge_5fold_test.csv',\n",
    " '../output/des_word_10000_nwords_title_5000_lower_swr_resnet50_500_logprice_params_lgb_5fold_test.csv',    \n",
    " '../output/pk_ridge_2360_res50_5fold_train.csv',\n",
    " '../output/pk_2282_catboost_train.csv',\n",
    " '../output/mercari_no2_sol_emb_nn_5fold_train.csv',\n",
    " '../output/mercari_no2_sol_emb_nn_imtop1_5fold_train.csv',\n",
    " '../output/mercari_no2_sol_emb_50_price_nn_imtop1_5fold_train.csv',\n",
    " '../output/mercari_no2_sol_emb_50_price_mean_encode_nn_imtop1_5fold_train.csv',\n",
    " '../output/mercari_no2_sol_emb_50_price_mean_encode_seq_num_nn_imtop1_5fold_train.csv',\n",
    " '../output/mercari_no2_sol_emb_50_price_imtop1_itseq_nn_5fold_train.csv',\n",
    " '../output/mercari_no2_sol_emb_50_price_imtop1_deslen_itseq_nn_5fold_train.csv',\n",
    " '../output/mercari_no2_sol_emb_50_price_imtop1_city_itseq_nn_5fold_train.csv',\n",
    " '../output/mercari_no2_sol_emb_50_price_imtop1_city_param1_itseq_nn_5fold_train.csv',\n",
    " '../output/mercari_no2_sol_emb_50_price_nn_imtop1_db_params_3_5fold_train.csv',\n",
    " '../output/mercari_no2_sol_emb_50_price_deslen_nn_5fold_train.csv',\n",
    " '../output/mercari_no2_sol_emb_50_price_deslen_imquality_tilen_nn_5fold_train.csv',\n",
    " '../output/mercari_no2_sol_emb_50_price_deslen_imquality_nn_5fold_train.csv',\n",
    " '../output/mercari_no2_sol_emb_50_price_deslen_tilen_nn_5fold_train.csv',\n",
    " '../output/mercari_no2_sol_emb_50_price_deslen_tilen_ag_pr1_nn_5fold_train.csv',\n",
    " '../output/mercari_no2_sol_emb_50_price_deslen_ag_pr1_avgpool_nn_5fold_train.csv',\n",
    " '../output/mercari_no2_sol_emb_50_price_deslen_ag_pr1_nn_5fold_train.csv',\n",
    " '../output/mercari_no2_sol_emb_50_price_deslen_txfeatlen_nn_5fold_train.csv',\n",
    " '../output/mercari_no2_sol_emb_50_price_deslen_desvec10000_nn_5fold_train.csv',\n",
    "]"
   ]
  },
  {
   "cell_type": "code",
   "execution_count": 63,
   "metadata": {},
   "outputs": [],
   "source": [
    "import re"
   ]
  },
  {
   "cell_type": "code",
   "execution_count": 64,
   "metadata": {
    "scrolled": true
   },
   "outputs": [
    {
     "data": {
      "text/plain": [
       "['../output/des_word_10000_nwords_title_5000_params_5000_lower_swr_resnet50_500_logprice_params_incep30_lgb_5fold_test.csv',\n",
       " '../output/des_word_50000_nwords_title_50000_lower_swr_resnet50_500_logprice_params_ridge_5fold_test.csv',\n",
       " '../output/des_word_10000_nwords_title_5000_lower_swr_resnet50_500_logprice_params_lgb_5fold_test.csv',\n",
       " '../output/pk_ridge_2360_res50_5fold_test.csv',\n",
       " '../output/pk_2282_catboost_test.csv',\n",
       " '../output/mercari_no2_sol_emb_nn_5fold_test.csv',\n",
       " '../output/mercari_no2_sol_emb_nn_imtop1_5fold_test.csv',\n",
       " '../output/mercari_no2_sol_emb_50_price_nn_imtop1_5fold_test.csv',\n",
       " '../output/mercari_no2_sol_emb_50_price_mean_encode_nn_imtop1_5fold_test.csv',\n",
       " '../output/mercari_no2_sol_emb_50_price_mean_encode_seq_num_nn_imtop1_5fold_test.csv',\n",
       " '../output/mercari_no2_sol_emb_50_price_imtop1_itseq_nn_5fold_test.csv',\n",
       " '../output/mercari_no2_sol_emb_50_price_imtop1_deslen_itseq_nn_5fold_test.csv',\n",
       " '../output/mercari_no2_sol_emb_50_price_imtop1_city_itseq_nn_5fold_test.csv',\n",
       " '../output/mercari_no2_sol_emb_50_price_imtop1_city_param1_itseq_nn_5fold_test.csv',\n",
       " '../output/mercari_no2_sol_emb_50_price_nn_imtop1_db_params_3_5fold_test.csv',\n",
       " '../output/mercari_no2_sol_emb_50_price_deslen_nn_5fold_test.csv',\n",
       " '../output/mercari_no2_sol_emb_50_price_deslen_imquality_tilen_nn_5fold_test.csv',\n",
       " '../output/mercari_no2_sol_emb_50_price_deslen_imquality_nn_5fold_test.csv',\n",
       " '../output/mercari_no2_sol_emb_50_price_deslen_tilen_nn_5fold_test.csv',\n",
       " '../output/mercari_no2_sol_emb_50_price_deslen_tilen_ag_pr1_nn_5fold_test.csv',\n",
       " '../output/mercari_no2_sol_emb_50_price_deslen_ag_pr1_avgpool_nn_5fold_test.csv',\n",
       " '../output/mercari_no2_sol_emb_50_price_deslen_ag_pr1_nn_5fold_test.csv',\n",
       " '../output/mercari_no2_sol_emb_50_price_deslen_txfeatlen_nn_5fold_test.csv',\n",
       " '../output/mercari_no2_sol_emb_50_price_deslen_desvec10000_nn_5fold_test.csv']"
      ]
     },
     "execution_count": 64,
     "metadata": {},
     "output_type": "execute_result"
    }
   ],
   "source": [
    "test_files = [re.sub('train', 'test', file) for file in train_files]\n",
    "test_files"
   ]
  },
  {
   "cell_type": "code",
   "execution_count": 65,
   "metadata": {},
   "outputs": [
    {
     "data": {
      "text/plain": [
       "24"
      ]
     },
     "execution_count": 65,
     "metadata": {},
     "output_type": "execute_result"
    }
   ],
   "source": [
    "len(test_files)"
   ]
  },
  {
   "cell_type": "code",
   "execution_count": 66,
   "metadata": {},
   "outputs": [],
   "source": [
    "select_index = [2,4, 6, 8, 9, 10, 11, 12, 13]"
   ]
  },
  {
   "cell_type": "code",
   "execution_count": 67,
   "metadata": {},
   "outputs": [],
   "source": [
    "# train_files = [train_files[i] for i in select_index]\n",
    "# test_files = [test_files[i] for i in select_index]"
   ]
  },
  {
   "cell_type": "code",
   "execution_count": 68,
   "metadata": {},
   "outputs": [],
   "source": [
    "train_dfs = [pd.read_csv(f)for f in train_files]\n",
    "test_dfs = [pd.read_csv(f)for f in test_files]"
   ]
  },
  {
   "cell_type": "code",
   "execution_count": 69,
   "metadata": {},
   "outputs": [
    {
     "data": {
      "text/plain": [
       "(508438, 24)"
      ]
     },
     "execution_count": 69,
     "metadata": {},
     "output_type": "execute_result"
    }
   ],
   "source": [
    "train_data = np.zeros([train_dfs[0].shape[0], len(train_dfs)])\n",
    "for i, df in enumerate(train_dfs):\n",
    "    train_data[:,i] = train_dfs[0].deal_probability.values\n",
    "train_data.shape"
   ]
  },
  {
   "cell_type": "code",
   "execution_count": 70,
   "metadata": {},
   "outputs": [
    {
     "data": {
      "text/plain": [
       "(508438, 24)"
      ]
     },
     "execution_count": 70,
     "metadata": {},
     "output_type": "execute_result"
    }
   ],
   "source": [
    "test_data = np.zeros([test_dfs[0].shape[0], len(test_dfs)])\n",
    "for i, df in enumerate(test_dfs):\n",
    "    test_data[:,i] = test_dfs[0].deal_probability.values\n",
    "test_data.shape"
   ]
  },
  {
   "cell_type": "code",
   "execution_count": 71,
   "metadata": {},
   "outputs": [],
   "source": [
    "import pickle\n",
    "with open('../input/layer_2_24m_train.p', 'wb') as f:\n",
    "    pickle.dump(train_data, f)"
   ]
  },
  {
   "cell_type": "code",
   "execution_count": 72,
   "metadata": {},
   "outputs": [],
   "source": [
    "import pickle\n",
    "with open('../input/layer_2_24m_test.p', 'wb') as f:\n",
    "    pickle.dump(test_data, f)"
   ]
  },
  {
   "cell_type": "code",
   "execution_count": 13,
   "metadata": {},
   "outputs": [],
   "source": [
    "import lightgbm as lgb"
   ]
  },
  {
   "cell_type": "code",
   "execution_count": 89,
   "metadata": {},
   "outputs": [
    {
     "data": {
      "text/plain": [
       "array([5054, 2408,  770,   84,    0,    0,    0,    0])"
      ]
     },
     "execution_count": 89,
     "metadata": {},
     "output_type": "execute_result"
    }
   ],
   "source": [
    "model = lgb.Booster(model_file= '../weights/l2_8m_lgb_5fold_fold4.model')\n",
    "model.feature_importance()"
   ]
  },
  {
   "cell_type": "code",
   "execution_count": 15,
   "metadata": {},
   "outputs": [
    {
     "data": {
      "text/plain": [
       "array([6118, 2142,  630,    0,    0,    0])"
      ]
     },
     "execution_count": 15,
     "metadata": {},
     "output_type": "execute_result"
    }
   ],
   "source": [
    "model = lgb.Booster(model_file= '../weights/l2_6m_lgb_5fold_fold0.model')\n",
    "model.feature_importance()"
   ]
  },
  {
   "cell_type": "code",
   "execution_count": 14,
   "metadata": {},
   "outputs": [
    {
     "data": {
      "text/plain": [
       "array([5964, 2170,  644,  112,    0,    0,    0,    0,    0])"
      ]
     },
     "execution_count": 14,
     "metadata": {},
     "output_type": "execute_result"
    }
   ],
   "source": [
    "model = lgb.Booster(model_file= '../weights/l2_9m_lgb_5fold_fold0.model')\n",
    "model.feature_importance()"
   ]
  },
  {
   "cell_type": "code",
   "execution_count": null,
   "metadata": {},
   "outputs": [],
   "source": []
  }
 ],
 "metadata": {
  "kernelspec": {
   "display_name": "Python 3",
   "language": "python",
   "name": "python3"
  },
  "language_info": {
   "codemirror_mode": {
    "name": "ipython",
    "version": 3
   },
   "file_extension": ".py",
   "mimetype": "text/x-python",
   "name": "python",
   "nbconvert_exporter": "python",
   "pygments_lexer": "ipython3",
   "version": "3.6.4"
  }
 },
 "nbformat": 4,
 "nbformat_minor": 2
}
